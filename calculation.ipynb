{
 "cells": [
  {
   "cell_type": "code",
   "execution_count": 1,
   "metadata": {},
   "outputs": [],
   "source": [
    "from SalaryDistribution import SalaryDistribution\n",
    "\n",
    "n = 146 * 1e+6\n",
    "median = 55845\n",
    "mean = 151600\n",
    "\n",
    "quantile = 0.95\n",
    "target_salary = 1e+6\n",
    "\n",
    "dist = SalaryDistribution(\n",
    "    median=median,\n",
    "    mean=mean,\n",
    "    population_size=n\n",
    ")"
   ]
  },
  {
   "cell_type": "code",
   "execution_count": 2,
   "metadata": {},
   "outputs": [
    {
     "name": "stdout",
     "output_type": "stream",
     "text": [
      "Для 90.0% квантиля:\n",
      "- Порог зарплаты: 341640.11\n",
      "- Число людей выше порога: 14600000\n",
      "- Процент людей выше порога: 10.0%\n"
     ]
    }
   ],
   "source": [
    "# Кейс 1: По квантилю находим порог зарплаты и число людей выше порога\n",
    "quantile = 0.9  # 90-й перцентиль\n",
    "threshold, count_above, percent_above = dist.get_people_above_quantile(quantile)\n",
    "print(f\"Для {quantile*100}% квантиля:\")\n",
    "print(f\"- Порог зарплаты: {threshold:.2f}\")\n",
    "print(f\"- Число людей выше порога: {count_above:.0f}\")\n",
    "print(f\"- Процент людей выше порога: {percent_above:.1f}%\")"
   ]
  },
  {
   "cell_type": "code",
   "execution_count": 3,
   "metadata": {},
   "outputs": [
    {
     "name": "stdout",
     "output_type": "stream",
     "text": [
      "Для зарплаты 100000:\n",
      "- Квантиль: 0.6599 (66.0%)\n",
      "- Число людей ниже порога: 96347455\n",
      "- Число людей выше порога: 49652545\n",
      "- Процент людей выше порога: 34.0%\n"
     ]
    }
   ],
   "source": [
    "# Кейс 2: По зарплате находим квантиль и число людей выше/ниже\n",
    "salary = 100000\n",
    "quantile, count_below, count_above, percent_above = dist.get_people_above_salary(salary)\n",
    "print(f\"Для зарплаты {salary}:\")\n",
    "print(f\"- Квантиль: {quantile:.4f} ({quantile*100:.1f}%)\")\n",
    "print(f\"- Число людей ниже порога: {count_below:.0f}\")\n",
    "print(f\"- Число людей выше порога: {count_above:.0f}\")\n",
    "print(f\"- Процент людей выше порога: {percent_above:.1f}%\")"
   ]
  }
 ],
 "metadata": {
  "kernelspec": {
   "display_name": "base",
   "language": "python",
   "name": "python3"
  },
  "language_info": {
   "codemirror_mode": {
    "name": "ipython",
    "version": 3
   },
   "file_extension": ".py",
   "mimetype": "text/x-python",
   "name": "python",
   "nbconvert_exporter": "python",
   "pygments_lexer": "ipython3",
   "version": "3.9.21"
  }
 },
 "nbformat": 4,
 "nbformat_minor": 2
}
